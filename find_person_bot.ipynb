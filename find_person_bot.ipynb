{
 "cells": [
  {
   "cell_type": "code",
   "execution_count": 1,
   "id": "3af44f45",
   "metadata": {},
   "outputs": [],
   "source": [
    "from config import TOKEN\n",
    "import os\n",
    "import telebot\n",
    "from telebot import types\n",
    "import pandas\n",
    "\n",
    "\n",
    "# Создание словаря с сотрудниками из excel файла\n",
    "def dict_pers():\n",
    "    path = f'{os.getcwd()}\\data\\people_data_vacation.xlsx'\n",
    "    excel_data = pandas.read_excel(path,sheet_name = 'vacation', engine = 'openpyxl')\n",
    "    excel_data_dict = excel_data.to_dict(orient = 'records')\n",
    "\n",
    "    return excel_data_dict\n",
    "\n",
    "# Проверка на совпадение данных из массива со словарем\n",
    "def find_employee(DATA, args):\n",
    "\n",
    "    for person in DATA:\n",
    "        if all(elem in person.values() for elem in args):\n",
    "            mess = f\"{person['Фамилия']} {person['Имя']} {person['Должность']} {person['Email']}\"\n",
    "            break\n",
    "        else:\n",
    "            mess = 'Такого сотрудника нет'\n",
    "        \n",
    "    return mess\n",
    "\n",
    "bot = telebot.TeleBot(TOKEN)\n",
    "DATA = dict_pers() \n",
    "\n",
    "@bot.message_handler(commands = ['start'])\n",
    "def start(message):\n",
    "    bot.send_message(message.chat.id, 'Введите имя сотрудника')\n",
    "    \n",
    "@bot.message_handler(content_types = 'text')\n",
    "def reply_pers(message):\n",
    "    text = message.text\n",
    "    mess = find_employee(DATA, text.split())\n",
    "    bot.send_message(message.chat.id, mess)\n",
    "    \n",
    "bot.polling(none_stop=True, interval = 0)"
   ]
  },
  {
   "cell_type": "code",
   "execution_count": null,
   "id": "0a0f1a34",
   "metadata": {},
   "outputs": [],
   "source": []
  }
 ],
 "metadata": {
  "kernelspec": {
   "display_name": "Python 3 (ipykernel)",
   "language": "python",
   "name": "python3"
  },
  "language_info": {
   "codemirror_mode": {
    "name": "ipython",
    "version": 3
   },
   "file_extension": ".py",
   "mimetype": "text/x-python",
   "name": "python",
   "nbconvert_exporter": "python",
   "pygments_lexer": "ipython3",
   "version": "3.10.9"
  }
 },
 "nbformat": 4,
 "nbformat_minor": 5
}
